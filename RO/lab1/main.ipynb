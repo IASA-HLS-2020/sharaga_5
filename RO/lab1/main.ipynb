{
 "cells": [
  {
   "cell_type": "code",
   "execution_count": 241,
   "outputs": [
    {
     "data": {
      "text/plain": "       a  b  c   d  e  f  g  h  i  label\n0     24  2  3   3  1  1  2  3  0      1\n1     45  1  3  10  1  1  3  4  0      1\n2     43  2  3   7  1  1  3  4  0      1\n3     42  3  2   9  1  1  3  3  0      1\n4     36  3  3   8  1  1  3  2  0      1\n...   .. .. ..  .. .. .. .. .. ..    ...\n1468  33  4  4   2  1  0  2  4  0      3\n1469  33  4  4   3  1  1  1  4  0      3\n1470  39  3  3   8  1  0  1  4  0      3\n1471  33  3  3   4  1  0  2  2  0      3\n1472  17  3  3   1  1  1  2  4  0      3\n\n[1473 rows x 10 columns]",
      "text/html": "<div>\n<style scoped>\n    .dataframe tbody tr th:only-of-type {\n        vertical-align: middle;\n    }\n\n    .dataframe tbody tr th {\n        vertical-align: top;\n    }\n\n    .dataframe thead th {\n        text-align: right;\n    }\n</style>\n<table border=\"1\" class=\"dataframe\">\n  <thead>\n    <tr style=\"text-align: right;\">\n      <th></th>\n      <th>a</th>\n      <th>b</th>\n      <th>c</th>\n      <th>d</th>\n      <th>e</th>\n      <th>f</th>\n      <th>g</th>\n      <th>h</th>\n      <th>i</th>\n      <th>label</th>\n    </tr>\n  </thead>\n  <tbody>\n    <tr>\n      <th>0</th>\n      <td>24</td>\n      <td>2</td>\n      <td>3</td>\n      <td>3</td>\n      <td>1</td>\n      <td>1</td>\n      <td>2</td>\n      <td>3</td>\n      <td>0</td>\n      <td>1</td>\n    </tr>\n    <tr>\n      <th>1</th>\n      <td>45</td>\n      <td>1</td>\n      <td>3</td>\n      <td>10</td>\n      <td>1</td>\n      <td>1</td>\n      <td>3</td>\n      <td>4</td>\n      <td>0</td>\n      <td>1</td>\n    </tr>\n    <tr>\n      <th>2</th>\n      <td>43</td>\n      <td>2</td>\n      <td>3</td>\n      <td>7</td>\n      <td>1</td>\n      <td>1</td>\n      <td>3</td>\n      <td>4</td>\n      <td>0</td>\n      <td>1</td>\n    </tr>\n    <tr>\n      <th>3</th>\n      <td>42</td>\n      <td>3</td>\n      <td>2</td>\n      <td>9</td>\n      <td>1</td>\n      <td>1</td>\n      <td>3</td>\n      <td>3</td>\n      <td>0</td>\n      <td>1</td>\n    </tr>\n    <tr>\n      <th>4</th>\n      <td>36</td>\n      <td>3</td>\n      <td>3</td>\n      <td>8</td>\n      <td>1</td>\n      <td>1</td>\n      <td>3</td>\n      <td>2</td>\n      <td>0</td>\n      <td>1</td>\n    </tr>\n    <tr>\n      <th>...</th>\n      <td>...</td>\n      <td>...</td>\n      <td>...</td>\n      <td>...</td>\n      <td>...</td>\n      <td>...</td>\n      <td>...</td>\n      <td>...</td>\n      <td>...</td>\n      <td>...</td>\n    </tr>\n    <tr>\n      <th>1468</th>\n      <td>33</td>\n      <td>4</td>\n      <td>4</td>\n      <td>2</td>\n      <td>1</td>\n      <td>0</td>\n      <td>2</td>\n      <td>4</td>\n      <td>0</td>\n      <td>3</td>\n    </tr>\n    <tr>\n      <th>1469</th>\n      <td>33</td>\n      <td>4</td>\n      <td>4</td>\n      <td>3</td>\n      <td>1</td>\n      <td>1</td>\n      <td>1</td>\n      <td>4</td>\n      <td>0</td>\n      <td>3</td>\n    </tr>\n    <tr>\n      <th>1470</th>\n      <td>39</td>\n      <td>3</td>\n      <td>3</td>\n      <td>8</td>\n      <td>1</td>\n      <td>0</td>\n      <td>1</td>\n      <td>4</td>\n      <td>0</td>\n      <td>3</td>\n    </tr>\n    <tr>\n      <th>1471</th>\n      <td>33</td>\n      <td>3</td>\n      <td>3</td>\n      <td>4</td>\n      <td>1</td>\n      <td>0</td>\n      <td>2</td>\n      <td>2</td>\n      <td>0</td>\n      <td>3</td>\n    </tr>\n    <tr>\n      <th>1472</th>\n      <td>17</td>\n      <td>3</td>\n      <td>3</td>\n      <td>1</td>\n      <td>1</td>\n      <td>1</td>\n      <td>2</td>\n      <td>4</td>\n      <td>0</td>\n      <td>3</td>\n    </tr>\n  </tbody>\n</table>\n<p>1473 rows × 10 columns</p>\n</div>"
     },
     "metadata": {},
     "output_type": "display_data"
    },
    {
     "data": {
      "text/plain": "'There is no None values'"
     },
     "metadata": {},
     "output_type": "display_data"
    },
    {
     "name": "stdout",
     "output_type": "stream",
     "text": [
      "BernoulliNB 0.4 0.43898305084745765\n",
      "BernoulliNB 0.3 0.4411764705882353\n",
      "BernoulliNB 0.2 0.4610169491525424\n",
      "BernoulliNB 0.1 0.46621621621621623\n",
      "GaussianNB 0.4 0.4559322033898305\n",
      "GaussianNB 0.3 0.4796380090497738\n",
      "GaussianNB 0.2 0.46779661016949153\n",
      "GaussianNB 0.1 0.39864864864864863\n",
      "GradientBoostingClassifier 0.4 0.5254237288135594\n",
      "GradientBoostingClassifier 0.3 0.5678733031674208\n",
      "GradientBoostingClassifier 0.2 0.5288135593220339\n",
      "GradientBoostingClassifier 0.1 0.49324324324324326\n",
      "SVC 0.4 0.47796610169491527\n",
      "SVC 0.3 0.49321266968325794\n",
      "SVC 0.2 0.5254237288135594\n",
      "SVC 0.1 0.5\n",
      "MultinomialNB 0.4 0.4915254237288136\n",
      "MultinomialNB 0.3 0.4841628959276018\n",
      "MultinomialNB 0.2 0.5050847457627119\n",
      "MultinomialNB 0.1 0.47297297297297297\n"
     ]
    }
   ],
   "source": [
    "from sklearn.ensemble import GradientBoostingClassifier\n",
    "from sklearn.model_selection import train_test_split\n",
    "from sklearn.naive_bayes import BernoulliNB, GaussianNB, MultinomialNB\n",
    "from sklearn.svm import SVC\n",
    "import pandas as pd\n",
    "\n",
    "\n",
    "df = pd.read_csv('data/2_5.csv', delimiter=';', names=['a', 'b', 'c', 'd', 'e', 'f', 'g', 'h', 'i', 'label'])\n",
    "X = df.copy().drop(columns='label').to_numpy()\n",
    "y = df['label'].copy().to_numpy()\n",
    "\n",
    "display(df)\n",
    "\n",
    "if not df.isnull().values.any():\n",
    "    display('There is no None values')\n",
    "\n",
    "for clf in BernoulliNB(), GaussianNB(), GradientBoostingClassifier(), SVC(), MultinomialNB():\n",
    "\n",
    "    for ratio in 0.4, 0.3, 0.2, 0.1:\n",
    "\n",
    "        X_train, X_test, y_train, y_test = train_test_split(X, y, test_size=ratio)\n",
    "        clf.fit(X=X_train, y=y_train)\n",
    "        prediction = clf.predict(X_test)\n",
    "        print(clf.__class__.__name__, ratio, clf.score(X_test, y_test))\n"
   ],
   "metadata": {
    "collapsed": false,
    "pycharm": {
     "name": "#%%\n"
    }
   }
  }
 ],
 "metadata": {
  "kernelspec": {
   "display_name": "Python 3",
   "language": "python",
   "name": "python3"
  },
  "language_info": {
   "codemirror_mode": {
    "name": "ipython",
    "version": 3
   },
   "file_extension": ".py",
   "mimetype": "text/x-python",
   "name": "python",
   "nbconvert_exporter": "python",
   "pygments_lexer": "ipython3",
   "version": "3.8.0"
  }
 },
 "nbformat": 4,
 "nbformat_minor": 1
}