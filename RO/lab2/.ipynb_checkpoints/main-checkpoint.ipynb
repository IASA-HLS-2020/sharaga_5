{
 "cells": [
  {
   "cell_type": "code",
   "execution_count": null,
   "metadata": {
    "collapsed": true,
    "pycharm": {
     "name": "#%%\n",
     "is_executing": true
    }
   },
   "outputs": [],
   "source": [
    "from matplotlib import image\n",
    "from pathlib import Path\n",
    "from skfuzzy import cmeans\n",
    "from sklearn.cluster import KMeans\n",
    "from sklearn.metrics import calinski_harabasz_score, davies_bouldin_score, silhouette_score\n",
    "import  matplotlib.pyplot as plt\n",
    "import numpy as np\n",
    "\n",
    "\n",
    "N_CLUSTERS = 5\n",
    "\n",
    "\n",
    "processed_images = [image.imread(file) / 255 for file in Path.cwd().glob('data/*.jpg')]\n",
    "fig, axs = plt.subplots(nrows=N_CLUSTERS-2, ncols=2, figsize=(20,30))\n",
    "\n",
    "\n",
    "for pr_img_id, pr_img in enumerate(processed_images):\n",
    "    for n_clusters in range(2, N_CLUSTERS):\n",
    "\n",
    "\n",
    "        x, y ,z = pr_img.shape\n",
    "        clf = KMeans(n_clusters=n_clusters)\n",
    "        clf.fit(pr_img.reshape(x * y, z))\n",
    "\n",
    "        segmented = clf.cluster_centers_[clf.labels_].reshape(x,y,z)\n",
    "\n",
    "        axs[n_clusters-2,0].text(0,0, calinski_harabasz_score(pr_img.reshape(x * y, z), clf.labels_), fontsize=12, bbox=dict(facecolor='red', alpha=0.5))\n",
    "        axs[n_clusters-2,0].text(0,35, davies_bouldin_score(pr_img.reshape(x * y, z), clf.labels_), fontsize=12, bbox=dict(facecolor='blue', alpha=0.5))\n",
    "        axs[n_clusters-2,0].text(0,70, silhouette_score(pr_img.reshape(x * y, z), clf.labels_), fontsize=12, bbox=dict(facecolor='green', alpha=0.5))\n",
    "        axs[n_clusters-2,0].imshow(segmented)\n",
    "\n",
    "\n",
    "        x, y ,z = pr_img.shape\n",
    "        cntr, u, _, _, _, _, _ = cmeans(pr_img.reshape(x * y, z).T, n_clusters, m=2, error=1e-2, maxiter=200)\n",
    "        labels = np.argmax(u, axis=0)\n",
    "\n",
    "        segmented = cntr[labels].reshape(pr_img.shape)\n",
    "\n",
    "        axs[n_clusters-2,1].text(0,0, calinski_harabasz_score(pr_img.reshape(x * y, z), labels), fontsize=12, bbox=dict(facecolor='red', alpha=0.5))\n",
    "        axs[n_clusters-2,1].text(0,35, davies_bouldin_score(pr_img.reshape(x * y, z), labels), fontsize=12, bbox=dict(facecolor='blue', alpha=0.5))\n",
    "        axs[n_clusters-2,1].text(0,70, silhouette_score(pr_img.reshape(x * y, z), labels), fontsize=12, bbox=dict(facecolor='green', alpha=0.5))\n",
    "        axs[n_clusters-2,1].imshow(segmented)\n",
    "\n",
    "    break\n",
    "plt.show()"
   ]
  }
 ],
 "metadata": {
  "kernelspec": {
   "display_name": "Python 3",
   "language": "python",
   "name": "python3"
  },
  "language_info": {
   "codemirror_mode": {
    "name": "ipython",
    "version": 2
   },
   "file_extension": ".py",
   "mimetype": "text/x-python",
   "name": "python",
   "nbconvert_exporter": "python",
   "pygments_lexer": "ipython2",
   "version": "2.7.6"
  }
 },
 "nbformat": 4,
 "nbformat_minor": 0
}